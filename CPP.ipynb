{
  "nbformat": 4,
  "nbformat_minor": 0,
  "metadata": {
    "colab": {
      "provenance": [],
      "collapsed_sections": [
        "Xbcif7Cjnix6",
        "c_wv8ghym2H0",
        "9rgmKLsJrwYi",
        "Qy3Chwjzr50P",
        "X0k0DNxosDGH",
        "bzBkxLbBsrIa",
        "fKPW2UIet9oq",
        "hlbqF4e6vmax",
        "o-doUtaZxoYO",
        "tctEXpt42K5n",
        "-IdyQwHK2VYS",
        "XeGTgby83jhY",
        "do8mGFUo4zWz",
        "M60Iczfk5Alb",
        "Cx8YFvGQ5qsy",
        "1aBsJ7oY6ZLy",
        "dNUOrBav8BcL",
        "QS0emyMmBZur",
        "qEcKg0VWDPyB"
      ]
    },
    "kernelspec": {
      "name": "python3",
      "display_name": "Python 3"
    },
    "language_info": {
      "name": "python"
    }
  },
  "cells": [
    {
      "cell_type": "code",
      "execution_count": 2,
      "metadata": {
        "id": "AmuDJK05i0GA"
      },
      "outputs": [],
      "source": [
        "import seaborn as sns ## Visualization\n",
        "import numpy as np ## Linear Algebra\n",
        "import pandas as pd ## To work with data\n",
        "import plotly.express as px ## Visualization\n",
        "import plotly.graph_objects as go ## Visualization\n",
        "import matplotlib.pyplot as plt ## Visualization\n",
        "import plotly as py ## Visuaization\n",
        "from plotly import tools ## Visualization\n",
        "import os"
      ]
    },
    {
      "cell_type": "code",
      "source": [
        "df=pd.read_csv(\"/content/crop_production.csv\")"
      ],
      "metadata": {
        "id": "gJz7E08mjDRF"
      },
      "execution_count": 4,
      "outputs": []
    },
    {
      "cell_type": "code",
      "source": [
        "df.head()"
      ],
      "metadata": {
        "id": "sktlC0vQkEW1"
      },
      "execution_count": null,
      "outputs": []
    },
    {
      "cell_type": "markdown",
      "source": [
        "# Data Cleaning"
      ],
      "metadata": {
        "id": "Xbcif7Cjnix6"
      }
    },
    {
      "cell_type": "code",
      "source": [
        "df.shape"
      ],
      "metadata": {
        "colab": {
          "base_uri": "https://localhost:8080/"
        },
        "id": "T_g2ZKIOkHdb",
        "outputId": "d270dcf8-09c7-4b21-a968-a5deb3f86f22"
      },
      "execution_count": 8,
      "outputs": [
        {
          "output_type": "execute_result",
          "data": {
            "text/plain": [
              "(246091, 7)"
            ]
          },
          "metadata": {},
          "execution_count": 8
        }
      ]
    },
    {
      "cell_type": "code",
      "source": [
        "df.info()"
      ],
      "metadata": {
        "id": "PmiTaH3CkJ3D"
      },
      "execution_count": null,
      "outputs": []
    },
    {
      "cell_type": "markdown",
      "source": [
        "We have 4 categorical attributes, namely State_Name, District_Name, Season, Crop. The other 3 attributes are numericals values with Area in hectare and Production in tonnes."
      ],
      "metadata": {
        "id": "89K1EpARkfLd"
      }
    },
    {
      "cell_type": "code",
      "source": [
        "df.isnull().sum()"
      ],
      "metadata": {
        "id": "-LKh5zZ0kbN9"
      },
      "execution_count": null,
      "outputs": []
    },
    {
      "cell_type": "code",
      "source": [
        "df.Production.isnull().sum()/df.shape[0]"
      ],
      "metadata": {
        "id": "eXuK5AUdmGl7"
      },
      "execution_count": null,
      "outputs": []
    },
    {
      "cell_type": "markdown",
      "source": [
        "The Production attribute has 3730 missing values which contributes to just 1.51% of the entire dataset. Hence, we can drop these samples."
      ],
      "metadata": {
        "id": "oHxcD5iLmerl"
      }
    },
    {
      "cell_type": "code",
      "source": [
        "df.dropna(subset=[\"Production\"],axis=0,inplace=True)\n",
        "df.isnull().sum()"
      ],
      "metadata": {
        "id": "LaWXuDh3mYU4"
      },
      "execution_count": null,
      "outputs": []
    },
    {
      "cell_type": "markdown",
      "source": [
        "# Checking for any correlation between the numerical attributes."
      ],
      "metadata": {
        "id": "c_wv8ghym2H0"
      }
    },
    {
      "cell_type": "code",
      "source": [
        "plt.tick_params(labelsize=10)\n",
        "sns.heatmap(df.corr(),annot=True);"
      ],
      "metadata": {
        "id": "3h1C_S_9nL0L"
      },
      "execution_count": null,
      "outputs": []
    },
    {
      "cell_type": "markdown",
      "source": [
        "There is no considerable correlation between any of the attributes in the dataset."
      ],
      "metadata": {
        "id": "dv8lnMxxpyhU"
      }
    },
    {
      "cell_type": "markdown",
      "source": [
        "# Individual Attribute Analysis"
      ],
      "metadata": {
        "id": "9rgmKLsJrwYi"
      }
    },
    {
      "cell_type": "markdown",
      "source": [
        "## State_Name"
      ],
      "metadata": {
        "id": "Qy3Chwjzr50P"
      }
    },
    {
      "cell_type": "code",
      "source": [
        "df.State_Name.unique()"
      ],
      "metadata": {
        "id": "Q6Bz2ayWp64B"
      },
      "execution_count": null,
      "outputs": []
    },
    {
      "cell_type": "code",
      "source": [
        "df.State_Name.nunique()"
      ],
      "metadata": {
        "id": "e3-qG26oq0VY"
      },
      "execution_count": null,
      "outputs": []
    },
    {
      "cell_type": "code",
      "source": [
        "df.State_Name.value_counts().head(10)"
      ],
      "metadata": {
        "colab": {
          "base_uri": "https://localhost:8080/"
        },
        "id": "Pb4bc0OJrXgr",
        "outputId": "be8ac747-366d-4b82-a244-ec9fa2f42b60"
      },
      "execution_count": 33,
      "outputs": [
        {
          "output_type": "execute_result",
          "data": {
            "text/plain": [
              "Uttar Pradesh     33189\n",
              "Madhya Pradesh    22604\n",
              "Karnataka         21079\n",
              "Bihar             18874\n",
              "Assam             14622\n",
              "Odisha            13524\n",
              "Tamil Nadu        13266\n",
              "Maharashtra       12496\n",
              "Rajasthan         12066\n",
              "Chhattisgarh      10368\n",
              "Name: State_Name, dtype: int64"
            ]
          },
          "metadata": {},
          "execution_count": 33
        }
      ]
    },
    {
      "cell_type": "markdown",
      "source": [
        "This dataset encodes agriculture data for 33 Indian states (including Union Territories). As seen above, we have more data from states like Uttar Pradesh, Madhya Pradesh and Karnataka than the other states."
      ],
      "metadata": {
        "id": "DTgRsjEFq0wZ"
      }
    },
    {
      "cell_type": "markdown",
      "source": [
        "## District_Name"
      ],
      "metadata": {
        "id": "X0k0DNxosDGH"
      }
    },
    {
      "cell_type": "code",
      "source": [
        "df.District_Name.unique()"
      ],
      "metadata": {
        "id": "Qx1VBwMMsJwT"
      },
      "execution_count": null,
      "outputs": []
    },
    {
      "cell_type": "code",
      "source": [
        "df.District_Name.nunique()"
      ],
      "metadata": {
        "id": "szaWdrn_sNlg"
      },
      "execution_count": null,
      "outputs": []
    },
    {
      "cell_type": "code",
      "source": [
        "df.District_Name.value_counts()"
      ],
      "metadata": {
        "id": "mKfoY3I1sPqa"
      },
      "execution_count": null,
      "outputs": []
    },
    {
      "cell_type": "markdown",
      "source": [
        "On District front, we have 646 districts with more data coming from Tumkur, Belgaum, Bijapur, Hassan and Bellary, from Karantaka."
      ],
      "metadata": {
        "id": "rdWzNuEtsR96"
      }
    },
    {
      "cell_type": "markdown",
      "source": [
        "## Crop_Year"
      ],
      "metadata": {
        "id": "bzBkxLbBsrIa"
      }
    },
    {
      "cell_type": "code",
      "source": [
        "df.Crop_Year.nunique()"
      ],
      "metadata": {
        "id": "WQkRSCVSswEg"
      },
      "execution_count": null,
      "outputs": []
    },
    {
      "cell_type": "code",
      "source": [
        "print(df.Crop_Year.min())\n",
        "print(df.Crop_Year.max())"
      ],
      "metadata": {
        "id": "FRwjHMtOs6mI"
      },
      "execution_count": null,
      "outputs": []
    },
    {
      "cell_type": "markdown",
      "source": [
        "The dataset contains agricultural information for 19 years from the year 1997 to 2015."
      ],
      "metadata": {
        "id": "k0Vs_B_ItJob"
      }
    },
    {
      "cell_type": "code",
      "source": [
        "df.Crop_Year.value_counts()"
      ],
      "metadata": {
        "id": "Ftorl8FVs_KB"
      },
      "execution_count": null,
      "outputs": []
    },
    {
      "cell_type": "markdown",
      "source": [
        "With most of the data records coming from the years 2002-2011."
      ],
      "metadata": {
        "id": "_UnpFbWetfFG"
      }
    },
    {
      "cell_type": "markdown",
      "source": [
        "## Season"
      ],
      "metadata": {
        "id": "fKPW2UIet9oq"
      }
    },
    {
      "cell_type": "code",
      "source": [
        "df.Season.unique()"
      ],
      "metadata": {
        "id": "LE7Qe1uVvGPn"
      },
      "execution_count": null,
      "outputs": []
    },
    {
      "cell_type": "code",
      "source": [
        "df.Season.nunique()"
      ],
      "metadata": {
        "id": "QrakoCnWtdNn"
      },
      "execution_count": null,
      "outputs": []
    },
    {
      "cell_type": "code",
      "source": [
        "df.Season.value_counts()"
      ],
      "metadata": {
        "id": "MxVL9CtFvKm_"
      },
      "execution_count": null,
      "outputs": []
    },
    {
      "cell_type": "markdown",
      "source": [
        "Dataset talks about 6 different season crops with more data points including Kharif, Rabi and Annual Crops."
      ],
      "metadata": {
        "id": "1lMJG3-bvS--"
      }
    },
    {
      "cell_type": "markdown",
      "source": [
        "## Crop"
      ],
      "metadata": {
        "id": "hlbqF4e6vmax"
      }
    },
    {
      "cell_type": "code",
      "source": [
        "df.Crop.unique()"
      ],
      "metadata": {
        "id": "fcUvCBfzvosd"
      },
      "execution_count": null,
      "outputs": []
    },
    {
      "cell_type": "code",
      "source": [
        "df.Crop.nunique()"
      ],
      "metadata": {
        "colab": {
          "base_uri": "https://localhost:8080/"
        },
        "id": "-HTgJRgAvrkl",
        "outputId": "5bbfcc46-f71c-4fad-fef5-6cd73feefa37"
      },
      "execution_count": 38,
      "outputs": [
        {
          "output_type": "execute_result",
          "data": {
            "text/plain": [
              "124"
            ]
          },
          "metadata": {},
          "execution_count": 38
        }
      ]
    },
    {
      "cell_type": "code",
      "source": [
        "df.Crop.value_counts()"
      ],
      "metadata": {
        "colab": {
          "base_uri": "https://localhost:8080/"
        },
        "id": "5HXRYs-gvtJ_",
        "outputId": "6c80d666-8c25-49bd-dd25-688b15854fd6"
      },
      "execution_count": 37,
      "outputs": [
        {
          "output_type": "execute_result",
          "data": {
            "text/plain": [
              "Rice                 15082\n",
              "Maize                13787\n",
              "Moong(Green Gram)    10106\n",
              "Urad                  9710\n",
              "Sesamum               8821\n",
              "                     ...  \n",
              "Litchi                   6\n",
              "Coffee                   6\n",
              "Apple                    4\n",
              "Peach                    4\n",
              "Other Dry Fruit          1\n",
              "Name: Crop, Length: 124, dtype: int64"
            ]
          },
          "metadata": {},
          "execution_count": 37
        }
      ]
    },
    {
      "cell_type": "markdown",
      "source": [
        "The dataset shows data for 124 different crop varieties. We can see that the top crops are Rice,Maize and Moong(Green Gram)."
      ],
      "metadata": {
        "id": "571lQXk_wvmN"
      }
    },
    {
      "cell_type": "markdown",
      "source": [
        "## Area"
      ],
      "metadata": {
        "id": "o-doUtaZxoYO"
      }
    },
    {
      "cell_type": "code",
      "source": [
        "df.Area.describe()"
      ],
      "metadata": {
        "id": "zJez-gQ5xqRD"
      },
      "execution_count": null,
      "outputs": []
    },
    {
      "cell_type": "code",
      "source": [
        "df.Area.value_counts().head(10)"
      ],
      "metadata": {
        "id": "sb06_QlTyWV0"
      },
      "execution_count": null,
      "outputs": []
    },
    {
      "cell_type": "markdown",
      "source": [
        "Area under cultivation ranges from 0.1 hectare to 8580100 hectare, with an average area being 12167.41 hectare. A lot of the farmers having a cultivation land area of 1 to 10 hectare."
      ],
      "metadata": {
        "id": "iXVbZ-Rjx9c3"
      }
    },
    {
      "cell_type": "code",
      "source": [
        "plt.boxplot(df.Area)"
      ],
      "metadata": {
        "id": "Eczt1e980QM2"
      },
      "execution_count": null,
      "outputs": []
    },
    {
      "cell_type": "markdown",
      "source": [
        "Looking at the distribution we can say that the attribute is highly skewed with quite a few outliers."
      ],
      "metadata": {
        "id": "5ISEw3-D0Vd-"
      }
    },
    {
      "cell_type": "markdown",
      "source": [
        "## Production"
      ],
      "metadata": {
        "id": "ga_qHjXPzDWX"
      }
    },
    {
      "cell_type": "code",
      "source": [
        "df.Production.describe()"
      ],
      "metadata": {
        "id": "xZBrClS7zFXp"
      },
      "execution_count": null,
      "outputs": []
    },
    {
      "cell_type": "markdown",
      "source": [
        "Production values range from 0 to 1250800000 tonnes, with an average production being 582503.4 tonnes."
      ],
      "metadata": {
        "id": "ZNcKfJNEzQPf"
      }
    },
    {
      "cell_type": "code",
      "source": [
        "plt.boxplot(df.Production)"
      ],
      "metadata": {
        "id": "GjBM3_88z3IA"
      },
      "execution_count": null,
      "outputs": []
    },
    {
      "cell_type": "markdown",
      "source": [
        "Looking at the distribution we can say that the attribute is highly skewed with quite a few outliers."
      ],
      "metadata": {
        "id": "nXZZKtoK0ns4"
      }
    },
    {
      "cell_type": "markdown",
      "source": [
        "# EDA"
      ],
      "metadata": {
        "id": "tctEXpt42K5n"
      }
    },
    {
      "cell_type": "markdown",
      "source": [
        "## Overall Crop Production by State"
      ],
      "metadata": {
        "id": "-IdyQwHK2VYS"
      }
    },
    {
      "cell_type": "code",
      "source": [
        "temp = df.groupby(by='State_Name')['Production'].sum().reset_index().sort_values(by='Production')\n",
        "px.bar(temp, 'State_Name', 'Production')"
      ],
      "metadata": {
        "id": "5dNaq8yU2UUA"
      },
      "execution_count": null,
      "outputs": []
    },
    {
      "cell_type": "markdown",
      "source": [
        "From above graph we can see that : \n",
        "\n",
        "*   Kerala is the highest crops producing state overall. It has produced more than 500% crop than the runner up state, Andhra Pradesh.\n",
        "*   Top 3 crop producing states are from south India, which put together leave no space to compare rest states."
      ],
      "metadata": {
        "id": "iMotBDsM25eL"
      }
    },
    {
      "cell_type": "markdown",
      "source": [
        "## Productivity by State"
      ],
      "metadata": {
        "id": "XeGTgby83jhY"
      }
    },
    {
      "cell_type": "code",
      "source": [
        "temp = df.groupby('State_Name')['Area', 'Production'].sum().reset_index()\n",
        "temp['Production_Per_Unit_Area'] = temp['Production']/temp['Area']\n",
        "temp = temp.sort_values(by='Production_Per_Unit_Area')\n",
        "px.bar(temp, 'State_Name', 'Production_Per_Unit_Area', color='Production_Per_Unit_Area', )"
      ],
      "metadata": {
        "id": "-707rjz_25Hp"
      },
      "execution_count": null,
      "outputs": []
    },
    {
      "cell_type": "markdown",
      "source": [
        "Above graph tells us that :\n",
        "\n",
        "*   Kerala is the most productive state when we compare in terms of production by area.\n",
        "*   We see Andaman and Nicobar islands, Puducherry, Goa and many other states which are low in overall production, have higher productivity when we compare with the crop areas."
      ],
      "metadata": {
        "id": "eSPpkelq4Bj9"
      }
    },
    {
      "cell_type": "markdown",
      "source": [
        "## Overall Production through the years"
      ],
      "metadata": {
        "id": "do8mGFUo4zWz"
      }
    },
    {
      "cell_type": "code",
      "source": [
        "temp = df.groupby(by='Crop_Year')['Production'].sum().reset_index()\n",
        "px.line(temp, 'Crop_Year', 'Production')"
      ],
      "metadata": {
        "id": "E2KGrIl-47Jo"
      },
      "execution_count": null,
      "outputs": []
    },
    {
      "cell_type": "markdown",
      "source": [
        "## Average Crop Area through the years"
      ],
      "metadata": {
        "id": "M60Iczfk5Alb"
      }
    },
    {
      "cell_type": "code",
      "source": [
        "temp = df.groupby(by='Crop_Year')['Area'].mean().reset_index()\n",
        "px.scatter(temp, 'Crop_Year', 'Area', color='Area', size='Area')"
      ],
      "metadata": {
        "id": "fBfXNwjK5IBo"
      },
      "execution_count": null,
      "outputs": []
    },
    {
      "cell_type": "markdown",
      "source": [
        "In Above Graph we can see that :\n",
        "\n",
        "*   Average Crop Area has decresed over the years.\n",
        "*   We had the lowest Average Crop area in Years 2002 and 2003. (We have comparitively very less data of the year 2015 so, we will not consider that)"
      ],
      "metadata": {
        "id": "vxrFCMZg5KKC"
      }
    },
    {
      "cell_type": "markdown",
      "source": [
        "## Most and least crop producing Districts"
      ],
      "metadata": {
        "id": "Cx8YFvGQ5qsy"
      }
    },
    {
      "cell_type": "code",
      "source": [
        "fig = py.subplots.make_subplots(rows=1,cols=2,\n",
        "                    subplot_titles=('Highest crop producing districts', 'Least overall crop producing districts'))\n",
        "\n",
        "temp = df.groupby(by='District_Name')['Production'].sum().reset_index().sort_values(by='Production')\n",
        "temp1 = temp.tail()\n",
        "trace1 = go.Bar(x= temp1['District_Name'], y=temp1['Production'])\n",
        "\n",
        "temp1=temp.head()\n",
        "trace2 = go.Bar(x= temp1['District_Name'], y=temp1['Production'])\n",
        "\n",
        "fig.append_trace(trace1,1,1)\n",
        "fig.append_trace(trace2,1,2)\n",
        "fig.show()"
      ],
      "metadata": {
        "id": "JtrgxevZ59Q0"
      },
      "execution_count": null,
      "outputs": []
    },
    {
      "cell_type": "markdown",
      "source": [
        "## Most Produced Crops"
      ],
      "metadata": {
        "id": "1aBsJ7oY6ZLy"
      }
    },
    {
      "cell_type": "code",
      "source": [
        "top_crop_pro = df.groupby(\"Crop\")[\"Production\"].sum().reset_index().sort_values(by='Production',ascending=False)\n",
        "top_crop_pro[:5]"
      ],
      "metadata": {
        "id": "12eFqeBX6ugs"
      },
      "execution_count": null,
      "outputs": []
    },
    {
      "cell_type": "code",
      "source": [
        "temp = df.groupby(by='Crop')['Production'].sum().reset_index().sort_values(by='Production')\n",
        "px.bar(temp.tail(), 'Crop', 'Production')"
      ],
      "metadata": {
        "id": "SOohsgQ96f-I"
      },
      "execution_count": null,
      "outputs": []
    },
    {
      "cell_type": "markdown",
      "source": [
        "## EDA on Coconut"
      ],
      "metadata": {
        "id": "dNUOrBav8BcL"
      }
    },
    {
      "cell_type": "code",
      "source": [
        "coc_df = df[df[\"Crop\"]==\"Coconut \"]\n",
        "print(coc_df.Season.unique())\n",
        "print(coc_df.Season.value_counts())"
      ],
      "metadata": {
        "id": "ax8Zaowz8GqJ"
      },
      "execution_count": null,
      "outputs": []
    },
    {
      "cell_type": "code",
      "source": [
        "plt.figure(figsize=(10,6))\n",
        "sns.barplot(x=\"Season\",y=\"Production\",data=coc_df)"
      ],
      "metadata": {
        "id": "FEoo4DA88Sov"
      },
      "execution_count": null,
      "outputs": []
    },
    {
      "cell_type": "code",
      "source": [
        "plt.figure(figsize=(10,6))\n",
        "sns.barplot(x=\"State_Name\",y=\"Production\",data=coc_df)\n",
        "plt.xticks(rotation=90)\n",
        "plt.show()"
      ],
      "metadata": {
        "id": "SiBZ1GC0-HpP"
      },
      "execution_count": null,
      "outputs": []
    },
    {
      "cell_type": "code",
      "source": [
        "top_coc_pro_dis = coc_df.groupby(\"District_Name\")[\"Production\"].sum().reset_index().sort_values(\n",
        "    by='Production',ascending=False)\n",
        "top_coc_pro_dis[:5]\n",
        "sum_max = top_coc_pro_dis[\"Production\"].sum()\n",
        "top_coc_pro_dis[\"precent of production\"] = top_coc_pro_dis[\"Production\"].map(lambda x:(x/sum_max)*100)\n",
        "top_coc_pro_dis[:5]"
      ],
      "metadata": {
        "id": "oC_8KGG__4Go"
      },
      "execution_count": null,
      "outputs": []
    },
    {
      "cell_type": "code",
      "source": [
        "plt.figure(figsize=(10,6))\n",
        "sns.barplot(x=\"Crop_Year\",y=\"Production\",data=coc_df)\n",
        "plt.xticks(rotation=45)\n",
        "plt.show()"
      ],
      "metadata": {
        "id": "EiYIRhjLAOey"
      },
      "execution_count": null,
      "outputs": []
    },
    {
      "cell_type": "code",
      "source": [
        "sns.jointplot(x=\"Area\",y=\"Production\",data=coc_df,kind=\"reg\")"
      ],
      "metadata": {
        "id": "mm36xXIPAuJG"
      },
      "execution_count": null,
      "outputs": []
    },
    {
      "cell_type": "markdown",
      "source": [
        "Insights from Coconut EDA:\n",
        "\n",
        "*   Cocunut production is directly proportional to area.\n",
        "*   Its production is also gradually increasing over a time of period.\n",
        "*   Production is highest in Kerala.\n",
        "*   It does not depends on the season."
      ],
      "metadata": {
        "id": "zoss9cY9A2Hx"
      }
    },
    {
      "cell_type": "markdown",
      "source": [
        "## EDA on Sugarcane"
      ],
      "metadata": {
        "id": "QS0emyMmBZur"
      }
    },
    {
      "cell_type": "code",
      "source": [
        "sug_df = df[df[\"Crop\"]==\"Sugarcane\"]\n",
        "print(sug_df.Season.unique())\n",
        "print(sug_df.Season.value_counts())"
      ],
      "metadata": {
        "id": "XpoRoXT5BgCO"
      },
      "execution_count": null,
      "outputs": []
    },
    {
      "cell_type": "code",
      "source": [
        "plt.figure(figsize=(10,6))\n",
        "sns.barplot(x=\"Season\",y=\"Production\",data=sug_df)"
      ],
      "metadata": {
        "id": "f-ckD4D0B0Xh"
      },
      "execution_count": null,
      "outputs": []
    },
    {
      "cell_type": "code",
      "source": [
        "plt.figure(figsize=(10,6))\n",
        "sns.barplot(x=\"State_Name\",y=\"Production\",data=sug_df)\n",
        "plt.xticks(rotation=90)\n",
        "plt.show()"
      ],
      "metadata": {
        "id": "_LDAOM4XCBLQ"
      },
      "execution_count": null,
      "outputs": []
    },
    {
      "cell_type": "code",
      "source": [
        "top_sug_pro_dis = sug_df.groupby(\"District_Name\")[\"Production\"].sum().reset_index().sort_values(\n",
        "    by='Production',ascending=False)\n",
        "top_sug_pro_dis[:5]\n",
        "sum_max = top_sug_pro_dis[\"Production\"].sum()\n",
        "top_sug_pro_dis[\"precent of production\"] = top_sug_pro_dis[\"Production\"].map(lambda x:(x/sum_max)*100)\n",
        "top_sug_pro_dis[:5]"
      ],
      "metadata": {
        "id": "-iY2Ir0NCg-9"
      },
      "execution_count": null,
      "outputs": []
    },
    {
      "cell_type": "code",
      "source": [
        "plt.figure(figsize=(10,6))\n",
        "sns.barplot(x=\"Crop_Year\",y=\"Production\",data=sug_df)\n",
        "plt.xticks(rotation=45)\n",
        "plt.show()"
      ],
      "metadata": {
        "id": "2grYHNz_CvTl"
      },
      "execution_count": null,
      "outputs": []
    },
    {
      "cell_type": "code",
      "source": [
        "sns.jointplot(x=\"Area\",y=\"Production\",data=sug_df,kind=\"reg\")"
      ],
      "metadata": {
        "id": "tWjea0tGC2hA"
      },
      "execution_count": null,
      "outputs": []
    },
    {
      "cell_type": "markdown",
      "source": [
        "Insights from Sugarcane EDA:\n",
        "\n",
        "*   Sugarecane production is directly proportional to area\n",
        "*   It is produced in considerably high quantities in many states."
      ],
      "metadata": {
        "id": "KA2Xdg-TC60N"
      }
    },
    {
      "cell_type": "markdown",
      "source": [
        "## EDA on Rice"
      ],
      "metadata": {
        "id": "qEcKg0VWDPyB"
      }
    },
    {
      "cell_type": "code",
      "source": [
        "rice_df = df[df[\"Crop\"]==\"Rice\"]\n",
        "print(rice_df.Season.unique())\n",
        "print(rice_df.Season.value_counts())"
      ],
      "metadata": {
        "id": "5tpuZ-mBDSx9"
      },
      "execution_count": null,
      "outputs": []
    },
    {
      "cell_type": "code",
      "source": [
        "plt.figure(figsize=(10,6))\n",
        "sns.barplot(x=\"Season\",y=\"Production\",data=rice_df)"
      ],
      "metadata": {
        "id": "weynFfmIk3BD"
      },
      "execution_count": null,
      "outputs": []
    },
    {
      "cell_type": "code",
      "source": [
        "plt.figure(figsize=(10,6))\n",
        "sns.barplot(x=\"State_Name\",y=\"Production\",data=rice_df)\n",
        "plt.xticks(rotation=90)\n",
        "plt.show()"
      ],
      "metadata": {
        "id": "KrQcn-9Nk71z"
      },
      "execution_count": null,
      "outputs": []
    },
    {
      "cell_type": "code",
      "source": [
        "top_rice_pro_dis = rice_df.groupby(\"District_Name\")[\"Production\"].sum().reset_index().sort_values(\n",
        "    by='Production',ascending=False)\n",
        "top_rice_pro_dis[:5]\n",
        "sum_max = top_rice_pro_dis[\"Production\"].sum()\n",
        "top_rice_pro_dis[\"precent of production\"] = top_rice_pro_dis[\"Production\"].map(lambda x:(x/sum_max)*100)\n",
        "top_rice_pro_dis[:5]"
      ],
      "metadata": {
        "id": "iOOKWsr8k8ke"
      },
      "execution_count": null,
      "outputs": []
    },
    {
      "cell_type": "code",
      "source": [
        "plt.figure(figsize=(10,6))\n",
        "sns.barplot(x=\"Crop_Year\",y=\"Production\",data=rice_df)\n",
        "plt.xticks(rotation=45)\n",
        "plt.show()"
      ],
      "metadata": {
        "id": "z2sRdJU7lC2c"
      },
      "execution_count": null,
      "outputs": []
    },
    {
      "cell_type": "code",
      "source": [
        "sns.jointplot(x=\"Area\",y=\"Production\",data=rice_df,kind=\"reg\")"
      ],
      "metadata": {
        "id": "ZjhEvMswlFvs"
      },
      "execution_count": null,
      "outputs": []
    },
    {
      "cell_type": "markdown",
      "source": [
        "Insights:\n",
        "\n",
        "*   Rice is produced throughout the year.\n",
        "*   Production is directly proportional to Area.\n",
        "*   India consistently producses a high quantity of Rice every year since 1997 ( since we have less data on 2015, there's a reduciton)\n",
        "*   The higest Rice producing state is Punjab.\n",
        "\n"
      ],
      "metadata": {
        "id": "8gmgPVPanODG"
      }
    }
  ]
}