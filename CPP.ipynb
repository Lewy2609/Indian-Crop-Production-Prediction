{
  "nbformat": 4,
  "nbformat_minor": 0,
  "metadata": {
    "colab": {
      "provenance": [],
      "collapsed_sections": [
        "Xbcif7Cjnix6",
        "c_wv8ghym2H0",
        "9rgmKLsJrwYi",
        "Qy3Chwjzr50P",
        "X0k0DNxosDGH",
        "bzBkxLbBsrIa",
        "fKPW2UIet9oq",
        "hlbqF4e6vmax",
        "o-doUtaZxoYO",
        "tctEXpt42K5n",
        "-IdyQwHK2VYS",
        "XeGTgby83jhY",
        "do8mGFUo4zWz",
        "M60Iczfk5Alb",
        "Cx8YFvGQ5qsy",
        "1aBsJ7oY6ZLy",
        "dNUOrBav8BcL",
        "QS0emyMmBZur",
        "qEcKg0VWDPyB"
      ],
      "authorship_tag": "ABX9TyOjEIUrrJzlZl5tTozE9YXX",
      "include_colab_link": true
    },
    "kernelspec": {
      "name": "python3",
      "display_name": "Python 3"
    },
    "language_info": {
      "name": "python"
    }
  },
  "cells": [
    {
      "cell_type": "markdown",
      "metadata": {
        "id": "view-in-github",
        "colab_type": "text"
      },
      "source": [
        "<a href=\"https://colab.research.google.com/github/Lewy2609/Indian-Crop-Production-Prediction/blob/main/CPP.ipynb\" target=\"_parent\"><img src=\"https://colab.research.google.com/assets/colab-badge.svg\" alt=\"Open In Colab\"/></a>"
      ]
    },
    {
      "cell_type": "code",
      "execution_count": null,
      "metadata": {
        "id": "AmuDJK05i0GA"
      },
      "outputs": [],
      "source": [
        "import seaborn as sns ## Visualization\n",
        "import numpy as np ## Linear Algebra\n",
        "import pandas as pd ## To work with data\n",
        "import plotly.express as px ## Visualization\n",
        "import plotly.graph_objects as go ## Visualization\n",
        "import matplotlib.pyplot as plt ## Visualization\n",
        "import plotly as py ## Visuaization\n",
        "from plotly import tools ## Visualization\n",
        "import os"
      ]
    },
    {
      "cell_type": "code",
      "source": [
        "df=pd.read_csv(\"/content/crop_production.csv\")"
      ],
      "metadata": {
        "id": "gJz7E08mjDRF"
      },
      "execution_count": null,
      "outputs": []
    },
    {
      "cell_type": "code",
      "source": [
        "df.head()"
      ],
      "metadata": {
        "id": "sktlC0vQkEW1",
        "colab": {
          "base_uri": "https://localhost:8080/",
          "height": 206
        },
        "outputId": "a621e981-cb9e-43fa-ac31-0f8c1d8b9d0f"
      },
      "execution_count": null,
      "outputs": [
        {
          "output_type": "execute_result",
          "data": {
            "text/plain": [
              "                    State_Name District_Name  Crop_Year       Season  \\\n",
              "0  Andaman and Nicobar Islands      NICOBARS       2000  Kharif        \n",
              "1  Andaman and Nicobar Islands      NICOBARS       2000  Kharif        \n",
              "2  Andaman and Nicobar Islands      NICOBARS       2000  Kharif        \n",
              "3  Andaman and Nicobar Islands      NICOBARS       2000  Whole Year    \n",
              "4  Andaman and Nicobar Islands      NICOBARS       2000  Whole Year    \n",
              "\n",
              "                  Crop    Area  Production  \n",
              "0             Arecanut  1254.0      2000.0  \n",
              "1  Other Kharif pulses     2.0         1.0  \n",
              "2                 Rice   102.0       321.0  \n",
              "3               Banana   176.0       641.0  \n",
              "4            Cashewnut   720.0       165.0  "
            ],
            "text/html": [
              "\n",
              "  <div id=\"df-8335b85b-ddf3-4fc1-bbe2-6edcdd2f8f06\">\n",
              "    <div class=\"colab-df-container\">\n",
              "      <div>\n",
              "<style scoped>\n",
              "    .dataframe tbody tr th:only-of-type {\n",
              "        vertical-align: middle;\n",
              "    }\n",
              "\n",
              "    .dataframe tbody tr th {\n",
              "        vertical-align: top;\n",
              "    }\n",
              "\n",
              "    .dataframe thead th {\n",
              "        text-align: right;\n",
              "    }\n",
              "</style>\n",
              "<table border=\"1\" class=\"dataframe\">\n",
              "  <thead>\n",
              "    <tr style=\"text-align: right;\">\n",
              "      <th></th>\n",
              "      <th>State_Name</th>\n",
              "      <th>District_Name</th>\n",
              "      <th>Crop_Year</th>\n",
              "      <th>Season</th>\n",
              "      <th>Crop</th>\n",
              "      <th>Area</th>\n",
              "      <th>Production</th>\n",
              "    </tr>\n",
              "  </thead>\n",
              "  <tbody>\n",
              "    <tr>\n",
              "      <th>0</th>\n",
              "      <td>Andaman and Nicobar Islands</td>\n",
              "      <td>NICOBARS</td>\n",
              "      <td>2000</td>\n",
              "      <td>Kharif</td>\n",
              "      <td>Arecanut</td>\n",
              "      <td>1254.0</td>\n",
              "      <td>2000.0</td>\n",
              "    </tr>\n",
              "    <tr>\n",
              "      <th>1</th>\n",
              "      <td>Andaman and Nicobar Islands</td>\n",
              "      <td>NICOBARS</td>\n",
              "      <td>2000</td>\n",
              "      <td>Kharif</td>\n",
              "      <td>Other Kharif pulses</td>\n",
              "      <td>2.0</td>\n",
              "      <td>1.0</td>\n",
              "    </tr>\n",
              "    <tr>\n",
              "      <th>2</th>\n",
              "      <td>Andaman and Nicobar Islands</td>\n",
              "      <td>NICOBARS</td>\n",
              "      <td>2000</td>\n",
              "      <td>Kharif</td>\n",
              "      <td>Rice</td>\n",
              "      <td>102.0</td>\n",
              "      <td>321.0</td>\n",
              "    </tr>\n",
              "    <tr>\n",
              "      <th>3</th>\n",
              "      <td>Andaman and Nicobar Islands</td>\n",
              "      <td>NICOBARS</td>\n",
              "      <td>2000</td>\n",
              "      <td>Whole Year</td>\n",
              "      <td>Banana</td>\n",
              "      <td>176.0</td>\n",
              "      <td>641.0</td>\n",
              "    </tr>\n",
              "    <tr>\n",
              "      <th>4</th>\n",
              "      <td>Andaman and Nicobar Islands</td>\n",
              "      <td>NICOBARS</td>\n",
              "      <td>2000</td>\n",
              "      <td>Whole Year</td>\n",
              "      <td>Cashewnut</td>\n",
              "      <td>720.0</td>\n",
              "      <td>165.0</td>\n",
              "    </tr>\n",
              "  </tbody>\n",
              "</table>\n",
              "</div>\n",
              "      <button class=\"colab-df-convert\" onclick=\"convertToInteractive('df-8335b85b-ddf3-4fc1-bbe2-6edcdd2f8f06')\"\n",
              "              title=\"Convert this dataframe to an interactive table.\"\n",
              "              style=\"display:none;\">\n",
              "        \n",
              "  <svg xmlns=\"http://www.w3.org/2000/svg\" height=\"24px\"viewBox=\"0 0 24 24\"\n",
              "       width=\"24px\">\n",
              "    <path d=\"M0 0h24v24H0V0z\" fill=\"none\"/>\n",
              "    <path d=\"M18.56 5.44l.94 2.06.94-2.06 2.06-.94-2.06-.94-.94-2.06-.94 2.06-2.06.94zm-11 1L8.5 8.5l.94-2.06 2.06-.94-2.06-.94L8.5 2.5l-.94 2.06-2.06.94zm10 10l.94 2.06.94-2.06 2.06-.94-2.06-.94-.94-2.06-.94 2.06-2.06.94z\"/><path d=\"M17.41 7.96l-1.37-1.37c-.4-.4-.92-.59-1.43-.59-.52 0-1.04.2-1.43.59L10.3 9.45l-7.72 7.72c-.78.78-.78 2.05 0 2.83L4 21.41c.39.39.9.59 1.41.59.51 0 1.02-.2 1.41-.59l7.78-7.78 2.81-2.81c.8-.78.8-2.07 0-2.86zM5.41 20L4 18.59l7.72-7.72 1.47 1.35L5.41 20z\"/>\n",
              "  </svg>\n",
              "      </button>\n",
              "      \n",
              "  <style>\n",
              "    .colab-df-container {\n",
              "      display:flex;\n",
              "      flex-wrap:wrap;\n",
              "      gap: 12px;\n",
              "    }\n",
              "\n",
              "    .colab-df-convert {\n",
              "      background-color: #E8F0FE;\n",
              "      border: none;\n",
              "      border-radius: 50%;\n",
              "      cursor: pointer;\n",
              "      display: none;\n",
              "      fill: #1967D2;\n",
              "      height: 32px;\n",
              "      padding: 0 0 0 0;\n",
              "      width: 32px;\n",
              "    }\n",
              "\n",
              "    .colab-df-convert:hover {\n",
              "      background-color: #E2EBFA;\n",
              "      box-shadow: 0px 1px 2px rgba(60, 64, 67, 0.3), 0px 1px 3px 1px rgba(60, 64, 67, 0.15);\n",
              "      fill: #174EA6;\n",
              "    }\n",
              "\n",
              "    [theme=dark] .colab-df-convert {\n",
              "      background-color: #3B4455;\n",
              "      fill: #D2E3FC;\n",
              "    }\n",
              "\n",
              "    [theme=dark] .colab-df-convert:hover {\n",
              "      background-color: #434B5C;\n",
              "      box-shadow: 0px 1px 3px 1px rgba(0, 0, 0, 0.15);\n",
              "      filter: drop-shadow(0px 1px 2px rgba(0, 0, 0, 0.3));\n",
              "      fill: #FFFFFF;\n",
              "    }\n",
              "  </style>\n",
              "\n",
              "      <script>\n",
              "        const buttonEl =\n",
              "          document.querySelector('#df-8335b85b-ddf3-4fc1-bbe2-6edcdd2f8f06 button.colab-df-convert');\n",
              "        buttonEl.style.display =\n",
              "          google.colab.kernel.accessAllowed ? 'block' : 'none';\n",
              "\n",
              "        async function convertToInteractive(key) {\n",
              "          const element = document.querySelector('#df-8335b85b-ddf3-4fc1-bbe2-6edcdd2f8f06');\n",
              "          const dataTable =\n",
              "            await google.colab.kernel.invokeFunction('convertToInteractive',\n",
              "                                                     [key], {});\n",
              "          if (!dataTable) return;\n",
              "\n",
              "          const docLinkHtml = 'Like what you see? Visit the ' +\n",
              "            '<a target=\"_blank\" href=https://colab.research.google.com/notebooks/data_table.ipynb>data table notebook</a>'\n",
              "            + ' to learn more about interactive tables.';\n",
              "          element.innerHTML = '';\n",
              "          dataTable['output_type'] = 'display_data';\n",
              "          await google.colab.output.renderOutput(dataTable, element);\n",
              "          const docLink = document.createElement('div');\n",
              "          docLink.innerHTML = docLinkHtml;\n",
              "          element.appendChild(docLink);\n",
              "        }\n",
              "      </script>\n",
              "    </div>\n",
              "  </div>\n",
              "  "
            ]
          },
          "metadata": {},
          "execution_count": 6
        }
      ]
    },
    {
      "cell_type": "markdown",
      "source": [
        "# Data Cleaning"
      ],
      "metadata": {
        "id": "Xbcif7Cjnix6"
      }
    },
    {
      "cell_type": "code",
      "source": [
        "df.shape"
      ],
      "metadata": {
        "colab": {
          "base_uri": "https://localhost:8080/"
        },
        "id": "T_g2ZKIOkHdb",
        "outputId": "35241380-bb5a-4518-fb08-dcf44ef5b36c"
      },
      "execution_count": null,
      "outputs": [
        {
          "output_type": "execute_result",
          "data": {
            "text/plain": [
              "(242361, 7)"
            ]
          },
          "metadata": {},
          "execution_count": 12
        }
      ]
    },
    {
      "cell_type": "code",
      "source": [
        "df.info()"
      ],
      "metadata": {
        "id": "PmiTaH3CkJ3D",
        "colab": {
          "base_uri": "https://localhost:8080/"
        },
        "outputId": "4fa79007-9a6f-40fe-9386-261a14ef778a"
      },
      "execution_count": null,
      "outputs": [
        {
          "output_type": "stream",
          "name": "stdout",
          "text": [
            "<class 'pandas.core.frame.DataFrame'>\n",
            "Int64Index: 242361 entries, 0 to 246090\n",
            "Data columns (total 7 columns):\n",
            " #   Column         Non-Null Count   Dtype  \n",
            "---  ------         --------------   -----  \n",
            " 0   State_Name     242361 non-null  object \n",
            " 1   District_Name  242361 non-null  object \n",
            " 2   Crop_Year      242361 non-null  int64  \n",
            " 3   Season         242361 non-null  object \n",
            " 4   Crop           242361 non-null  object \n",
            " 5   Area           242361 non-null  float64\n",
            " 6   Production     242361 non-null  float64\n",
            "dtypes: float64(2), int64(1), object(4)\n",
            "memory usage: 14.8+ MB\n"
          ]
        }
      ]
    },
    {
      "cell_type": "markdown",
      "source": [
        "We have 4 categorical attributes, namely State_Name, District_Name, Season, Crop. The other 3 attributes are numericals values with Area in hectare and Production in tonnes."
      ],
      "metadata": {
        "id": "89K1EpARkfLd"
      }
    },
    {
      "cell_type": "code",
      "source": [
        "df.isnull().sum()"
      ],
      "metadata": {
        "id": "-LKh5zZ0kbN9",
        "colab": {
          "base_uri": "https://localhost:8080/"
        },
        "outputId": "dd520ab9-1a63-49cb-9102-c73b6e45396a"
      },
      "execution_count": null,
      "outputs": [
        {
          "output_type": "execute_result",
          "data": {
            "text/plain": [
              "State_Name       0\n",
              "District_Name    0\n",
              "Crop_Year        0\n",
              "Season           0\n",
              "Crop             0\n",
              "Area             0\n",
              "Production       0\n",
              "dtype: int64"
            ]
          },
          "metadata": {},
          "execution_count": 14
        }
      ]
    },
    {
      "cell_type": "code",
      "source": [
        "df.Production.isnull().sum()/df.shape[0]"
      ],
      "metadata": {
        "id": "eXuK5AUdmGl7",
        "colab": {
          "base_uri": "https://localhost:8080/"
        },
        "outputId": "d1e12bf0-3f23-406e-dba2-0949e9efe8c1"
      },
      "execution_count": null,
      "outputs": [
        {
          "output_type": "execute_result",
          "data": {
            "text/plain": [
              "0.0"
            ]
          },
          "metadata": {},
          "execution_count": 15
        }
      ]
    },
    {
      "cell_type": "markdown",
      "source": [
        "The Production attribute has 3730 missing values which contributes to just 1.51% of the entire dataset. Hence, we can drop these samples."
      ],
      "metadata": {
        "id": "oHxcD5iLmerl"
      }
    },
    {
      "cell_type": "code",
      "source": [
        "df.dropna(subset=[\"Production\"],axis=0,inplace=True)\n",
        "df.isnull().sum()"
      ],
      "metadata": {
        "id": "LaWXuDh3mYU4",
        "colab": {
          "base_uri": "https://localhost:8080/"
        },
        "outputId": "a880543a-08f5-404b-8ddc-a9d456cc33c3"
      },
      "execution_count": null,
      "outputs": [
        {
          "output_type": "execute_result",
          "data": {
            "text/plain": [
              "State_Name       0\n",
              "District_Name    0\n",
              "Crop_Year        0\n",
              "Season           0\n",
              "Crop             0\n",
              "Area             0\n",
              "Production       0\n",
              "dtype: int64"
            ]
          },
          "metadata": {},
          "execution_count": 16
        }
      ]
    },
    {
      "cell_type": "markdown",
      "source": [
        "# Checking for any correlation between the numerical attributes."
      ],
      "metadata": {
        "id": "c_wv8ghym2H0"
      }
    },
    {
      "cell_type": "code",
      "source": [
        "plt.tick_params(labelsize=10)\n",
        "sns.heatmap(df.corr(),annot=True);"
      ],
      "metadata": {
        "id": "3h1C_S_9nL0L",
        "colab": {
          "base_uri": "https://localhost:8080/"
        },
        "outputId": "2c2337b7-603e-447a-a3e0-3523f3a353ee"
      },
      "execution_count": null,
      "outputs": [
        {
          "output_type": "display_data",
          "data": {
            "text/plain": [
              "<Figure size 432x288 with 2 Axes>"
            ],
            "image/png": "[encoded data removed]"
          },
          "metadata": {
            "needs_background": "light"
          }
        }
      ]
    },
    {
      "cell_type": "markdown",
      "source": [
        "There is no considerable correlation between any of the attributes in the dataset."
      ],
      "metadata": {
        "id": "dv8lnMxxpyhU"
      }
    },
    {
      "cell_type": "markdown",
      "source": [
        "# Individual Attribute Analysis"
      ],
      "metadata": {
        "id": "9rgmKLsJrwYi"
      }
    },
    {
      "cell_type": "markdown",
      "source": [
        "## State_Name"
      ],
      "metadata": {
        "id": "Qy3Chwjzr50P"
      }
    },
    {
      "cell_type": "code",
      "source": [
        "df.State_Name.unique()"
      ],
      "metadata": {
        "id": "Q6Bz2ayWp64B",
        "colab": {
          "base_uri": "https://localhost:8080/"
        },
        "outputId": "5e86a295-0d8e-4561-835b-4694e9349777"
      },
      "execution_count": null,
      "outputs": [
        {
          "output_type": "execute_result",
          "data": {
            "text/plain": [
              "array(['Andaman and Nicobar Islands', 'Andhra Pradesh',\n",
              "       'Arunachal Pradesh', 'Assam', 'Bihar', 'Chandigarh',\n",
              "       'Chhattisgarh', 'Dadra and Nagar Haveli', 'Goa', 'Gujarat',\n",
              "       'Haryana', 'Himachal Pradesh', 'Jammu and Kashmir ', 'Jharkhand',\n",
              "       'Karnataka', 'Kerala', 'Madhya Pradesh', 'Maharashtra', 'Manipur',\n",
              "       'Meghalaya', 'Mizoram', 'Nagaland', 'Odisha', 'Puducherry',\n",
              "       'Punjab', 'Rajasthan', 'Sikkim', 'Tamil Nadu', 'Telangana ',\n",
              "       'Tripura', 'Uttar Pradesh', 'Uttarakhand', 'West Bengal'],\n",
              "      dtype=object)"
            ]
          },
          "metadata": {},
          "execution_count": 31
        }
      ]
    },
    {
      "cell_type": "code",
      "source": [
        "df.State_Name.nunique()"
      ],
      "metadata": {
        "id": "e3-qG26oq0VY",
        "colab": {
          "base_uri": "https://localhost:8080/"
        },
        "outputId": "ac84119c-d539-485a-ca20-fd52a76b66f6"
      },
      "execution_count": null,
      "outputs": [
        {
          "output_type": "execute_result",
          "data": {
            "text/plain": [
              "33"
            ]
          },
          "metadata": {},
          "execution_count": 32
        }
      ]
    },
    {
      "cell_type": "code",
      "source": [
        "df.State_Name.value_counts().head(10)"
      ],
      "metadata": {
        "colab": {
          "base_uri": "https://localhost:8080/"
        },
        "id": "Pb4bc0OJrXgr",
        "outputId": "2d85bafa-8d43-4f32-b29f-b98fc430e857"
      },
      "execution_count": null,
      "outputs": [
        {
          "output_type": "execute_result",
          "data": {
            "text/plain": [
              "Uttar Pradesh     33189\n",
              "Madhya Pradesh    22604\n",
              "Karnataka         21079\n",
              "Bihar             18874\n",
              "Assam             14622\n",
              "Odisha            13524\n",
              "Tamil Nadu        13266\n",
              "Maharashtra       12496\n",
              "Rajasthan         12066\n",
              "Chhattisgarh      10368\n",
              "Name: State_Name, dtype: int64"
            ]
          },
          "metadata": {},
          "execution_count": 33
        }
      ]
    },
    {
      "cell_type": "markdown",
      "source": [
        "This dataset encodes agriculture data for 33 Indian states (including Union Territories). As seen above, we have more data from states like Uttar Pradesh, Madhya Pradesh and Karnataka than the other states."
      ],
      "metadata": {
        "id": "DTgRsjEFq0wZ"
      }
    },
    {
      "cell_type": "markdown",
      "source": [
        "## District_Name"
      ],
      "metadata": {
        "id": "X0k0DNxosDGH"
      }
    },
    {
      "cell_type": "code",
      "source": [
        "df.District_Name.unique()"
      ],
      "metadata": {
        "id": "Qx1VBwMMsJwT"
      },
      "execution_count": null,
      "outputs": []
    },
    {
      "cell_type": "code",
      "source": [
        "df.District_Name.nunique()"
      ],
      "metadata": {
        "id": "szaWdrn_sNlg",
        "colab": {
          "base_uri": "https://localhost:8080/"
        },
        "outputId": "839b1013-6697-49a6-9d1d-229832a67402"
      },
      "execution_count": null,
      "outputs": [
        {
          "output_type": "execute_result",
          "data": {
            "text/plain": [
              "646"
            ]
          },
          "metadata": {},
          "execution_count": 35
        }
      ]
    },
    {
      "cell_type": "code",
      "source": [
        "df.District_Name.value_counts()"
      ],
      "metadata": {
        "id": "mKfoY3I1sPqa",
        "colab": {
          "base_uri": "https://localhost:8080/"
        },
        "outputId": "a0de53b0-d36e-4992-907d-ba10b7f94bad"
      },
      "execution_count": null,
      "outputs": [
        {
          "output_type": "execute_result",
          "data": {
            "text/plain": [
              "TUMKUR       931\n",
              "BELGAUM      924\n",
              "BIJAPUR      905\n",
              "HASSAN       895\n",
              "BELLARY      887\n",
              "            ... \n",
              "HYDERABAD      8\n",
              "KHUNTI         6\n",
              "RAMGARH        6\n",
              "NAMSAI         1\n",
              "MUMBAI         1\n",
              "Name: District_Name, Length: 646, dtype: int64"
            ]
          },
          "metadata": {},
          "execution_count": 36
        }
      ]
    },
    {
      "cell_type": "markdown",
      "source": [
        "On District front, we have 646 districts with more data coming from Tumkur, Belgaum, Bijapur, Hassan and Bellary, from Karantaka."
      ],
      "metadata": {
        "id": "rdWzNuEtsR96"
      }
    },
    {
      "cell_type": "markdown",
      "source": [
        "## Crop_Year"
      ],
      "metadata": {
        "id": "bzBkxLbBsrIa"
      }
    },
    {
      "cell_type": "code",
      "source": [
        "df.Crop_Year.nunique()"
      ],
      "metadata": {
        "id": "WQkRSCVSswEg",
        "colab": {
          "base_uri": "https://localhost:8080/"
        },
        "outputId": "f4316f69-5671-4773-ae5b-357cc59b15cf"
      },
      "execution_count": null,
      "outputs": [
        {
          "output_type": "execute_result",
          "data": {
            "text/plain": [
              "19"
            ]
          },
          "metadata": {},
          "execution_count": 37
        }
      ]
    },
    {
      "cell_type": "code",
      "source": [
        "print(df.Crop_Year.min())\n",
        "print(df.Crop_Year.max())"
      ],
      "metadata": {
        "id": "FRwjHMtOs6mI",
        "colab": {
          "base_uri": "https://localhost:8080/"
        },
        "outputId": "9b0ed8b3-4d89-4447-bf0c-645d9d89e308"
      },
      "execution_count": null,
      "outputs": [
        {
          "output_type": "stream",
          "name": "stdout",
          "text": [
            "1997\n",
            "2015\n"
          ]
        }
      ]
    },
    {
      "cell_type": "markdown",
      "source": [
        "The dataset contains agricultural information for 19 years from the year 1997 to 2015."
      ],
      "metadata": {
        "id": "k0Vs_B_ItJob"
      }
    },
    {
      "cell_type": "code",
      "source": [
        "df.Crop_Year.value_counts()"
      ],
      "metadata": {
        "id": "Ftorl8FVs_KB",
        "colab": {
          "base_uri": "https://localhost:8080/"
        },
        "outputId": "03c5baf1-7247-4822-d44f-0e6cb76ec1c0"
      },
      "execution_count": null,
      "outputs": [
        {
          "output_type": "execute_result",
          "data": {
            "text/plain": [
              "2003    17139\n",
              "2002    16536\n",
              "2007    14269\n",
              "2008    14230\n",
              "2006    13976\n",
              "2004    13858\n",
              "2010    13793\n",
              "2011    13791\n",
              "2009    13767\n",
              "2000    13553\n",
              "2005    13519\n",
              "2013    13475\n",
              "2001    13293\n",
              "2012    13184\n",
              "1999    12441\n",
              "1998    11262\n",
              "2014    10815\n",
              "1997     8899\n",
              "2015      561\n",
              "Name: Crop_Year, dtype: int64"
            ]
          },
          "metadata": {},
          "execution_count": 39
        }
      ]
    },
    {
      "cell_type": "markdown",
      "source": [
        "With most of the data records coming from the years 2002-2011."
      ],
      "metadata": {
        "id": "_UnpFbWetfFG"
      }
    },
    {
      "cell_type": "markdown",
      "source": [
        "## Season"
      ],
      "metadata": {
        "id": "fKPW2UIet9oq"
      }
    },
    {
      "cell_type": "code",
      "source": [
        "df.Season.unique()"
      ],
      "metadata": {
        "id": "LE7Qe1uVvGPn",
        "colab": {
          "base_uri": "https://localhost:8080/"
        },
        "outputId": "ba49a35e-e0be-4af6-d015-f8f010cfa779"
      },
      "execution_count": null,
      "outputs": [
        {
          "output_type": "execute_result",
          "data": {
            "text/plain": [
              "array(['Kharif     ', 'Whole Year ', 'Autumn     ', 'Rabi       ',\n",
              "       'Summer     ', 'Winter     '], dtype=object)"
            ]
          },
          "metadata": {},
          "execution_count": 40
        }
      ]
    },
    {
      "cell_type": "code",
      "source": [
        "df.Season.nunique()"
      ],
      "metadata": {
        "id": "QrakoCnWtdNn",
        "colab": {
          "base_uri": "https://localhost:8080/"
        },
        "outputId": "dd1ff0bb-3143-4c7e-b441-50a2f11a5d65"
      },
      "execution_count": null,
      "outputs": [
        {
          "output_type": "execute_result",
          "data": {
            "text/plain": [
              "6"
            ]
          },
          "metadata": {},
          "execution_count": 41
        }
      ]
    },
    {
      "cell_type": "code",
      "source": [
        "df.Season.value_counts()"
      ],
      "metadata": {
        "id": "MxVL9CtFvKm_",
        "colab": {
          "base_uri": "https://localhost:8080/"
        },
        "outputId": "3609fa84-1f80-48a7-c0db-075c380ef438"
      },
      "execution_count": null,
      "outputs": [
        {
          "output_type": "execute_result",
          "data": {
            "text/plain": [
              "Kharif         94283\n",
              "Rabi           66160\n",
              "Whole Year     56127\n",
              "Summer         14811\n",
              "Winter          6050\n",
              "Autumn          4930\n",
              "Name: Season, dtype: int64"
            ]
          },
          "metadata": {},
          "execution_count": 42
        }
      ]
    },
    {
      "cell_type": "markdown",
      "source": [
        "Dataset talks about 6 different season crops with more data points including Kharif, Rabi and Annual Crops."
      ],
      "metadata": {
        "id": "1lMJG3-bvS--"
      }
    },
    {
      "cell_type": "markdown",
      "source": [
        "## Crop"
      ],
      "metadata": {
        "id": "hlbqF4e6vmax"
      }
    },
    {
      "cell_type": "code",
      "source": [
        "df.Crop.unique()"
      ],
      "metadata": {
        "id": "fcUvCBfzvosd"
      },
      "execution_count": null,
      "outputs": []
    },
    {
      "cell_type": "code",
      "source": [
        "df.Crop.nunique()"
      ],
      "metadata": {
        "colab": {
          "base_uri": "https://localhost:8080/"
        },
        "id": "-HTgJRgAvrkl",
        "outputId": "5bbfcc46-f71c-4fad-fef5-6cd73feefa37"
      },
      "execution_count": null,
      "outputs": [
        {
          "output_type": "execute_result",
          "data": {
            "text/plain": [
              "124"
            ]
          },
          "metadata": {},
          "execution_count": 38
        }
      ]
    },
    {
      "cell_type": "code",
      "source": [
        "df.Crop.value_counts()"
      ],
      "metadata": {
        "colab": {
          "base_uri": "https://localhost:8080/"
        },
        "id": "5HXRYs-gvtJ_",
        "outputId": "6c80d666-8c25-49bd-dd25-688b15854fd6"
      },
      "execution_count": null,
      "outputs": [
        {
          "output_type": "execute_result",
          "data": {
            "text/plain": [
              "Rice                 15082\n",
              "Maize                13787\n",
              "Moong(Green Gram)    10106\n",
              "Urad                  9710\n",
              "Sesamum               8821\n",
              "                     ...  \n",
              "Litchi                   6\n",
              "Coffee                   6\n",
              "Apple                    4\n",
              "Peach                    4\n",
              "Other Dry Fruit          1\n",
              "Name: Crop, Length: 124, dtype: int64"
            ]
          },
          "metadata": {},
          "execution_count": 37
        }
      ]
    },
    {
      "cell_type": "markdown",
      "source": [
        "The dataset shows data for 124 different crop varieties. We can see that the top crops are Rice,Maize and Moong(Green Gram)."
      ],
      "metadata": {
        "id": "571lQXk_wvmN"
      }
    },
    {
      "cell_type": "markdown",
      "source": [
        "## Area"
      ],
      "metadata": {
        "id": "o-doUtaZxoYO"
      }
    },
    {
      "cell_type": "code",
      "source": [
        "df.Area.describe()"
      ],
      "metadata": {
        "id": "zJez-gQ5xqRD",
        "colab": {
          "base_uri": "https://localhost:8080/"
        },
        "outputId": "2d8cb365-f515-45d2-83f8-1dd0bddc4b4c"
      },
      "execution_count": null,
      "outputs": [
        {
          "output_type": "execute_result",
          "data": {
            "text/plain": [
              "count    2.423610e+05\n",
              "mean     1.216741e+04\n",
              "std      5.085744e+04\n",
              "min      1.000000e-01\n",
              "25%      8.700000e+01\n",
              "50%      6.030000e+02\n",
              "75%      4.545000e+03\n",
              "max      8.580100e+06\n",
              "Name: Area, dtype: float64"
            ]
          },
          "metadata": {},
          "execution_count": 43
        }
      ]
    },
    {
      "cell_type": "code",
      "source": [
        "df.Area.value_counts().head(10)"
      ],
      "metadata": {
        "id": "sb06_QlTyWV0",
        "colab": {
          "base_uri": "https://localhost:8080/"
        },
        "outputId": "c6ee1008-5de4-4f39-d96e-9d90f2394fa1"
      },
      "execution_count": null,
      "outputs": [
        {
          "output_type": "execute_result",
          "data": {
            "text/plain": [
              "1.0      3573\n",
              "2.0      3140\n",
              "100.0    2621\n",
              "3.0      2478\n",
              "4.0      2182\n",
              "5.0      2090\n",
              "6.0      1750\n",
              "200.0    1671\n",
              "10.0     1590\n",
              "7.0      1555\n",
              "Name: Area, dtype: int64"
            ]
          },
          "metadata": {},
          "execution_count": 44
        }
      ]
    },
    {
      "cell_type": "markdown",
      "source": [
        "Area under cultivation ranges from 0.1 hectare to 8580100 hectare, with an average area being 12167.41 hectare. A lot of the farmers having a cultivation land area of 1 to 10 hectare."
      ],
      "metadata": {
        "id": "iXVbZ-Rjx9c3"
      }
    },
    {
      "cell_type": "code",
      "source": [
        "plt.boxplot(df.Area)"
      ],
      "metadata": {
        "id": "Eczt1e980QM2",
        "colab": {
          "base_uri": "https://localhost:8080/"
        },
        "outputId": "6c85f837-5735-4271-f1a5-ffbce31e8c03"
      },
      "execution_count": null,
      "outputs": [
        {
          "output_type": "execute_result",
          "data": {
            "text/plain": [
              "{'whiskers': [<matplotlib.lines.Line2D at 0x7f78f297a290>,\n",
              "  <matplotlib.lines.Line2D at 0x7f78f297a7d0>],\n",
              " 'caps': [<matplotlib.lines.Line2D at 0x7f78f297ad10>,\n",
              "  <matplotlib.lines.Line2D at 0x7f78f297f290>],\n",
              " 'boxes': [<matplotlib.lines.Line2D at 0x7f78f296fc50>],\n",
              " 'medians': [<matplotlib.lines.Line2D at 0x7f78f297f810>],\n",
              " 'fliers': [<matplotlib.lines.Line2D at 0x7f78f297fd50>],\n",
              " 'means': []}"
            ]
          },
          "metadata": {},
          "execution_count": 45
        },
        {
          "output_type": "display_data",
          "data": {
            "text/plain": [
              "<Figure size 432x288 with 1 Axes>"
            ],
            "image/png": "[encoded data removed]"
          },
          "metadata": {
            "needs_background": "light"
          }
        }
      ]
    },
    {
      "cell_type": "markdown",
      "source": [
        "Looking at the distribution we can say that the attribute is highly skewed with quite a few outliers."
      ],
      "metadata": {
        "id": "5ISEw3-D0Vd-"
      }
    },
    {
      "cell_type": "markdown",
      "source": [
        "## Production"
      ],
      "metadata": {
        "id": "ga_qHjXPzDWX"
      }
    },
    {
      "cell_type": "code",
      "source": [
        "df.Production.describe()"
      ],
      "metadata": {
        "id": "xZBrClS7zFXp",
        "colab": {
          "base_uri": "https://localhost:8080/"
        },
        "outputId": "0c7a10b0-16d3-49ac-f119-7acfa06c62c1"
      },
      "execution_count": null,
      "outputs": [
        {
          "output_type": "execute_result",
          "data": {
            "text/plain": [
              "count    2.423610e+05\n",
              "mean     5.825034e+05\n",
              "std      1.706581e+07\n",
              "min      0.000000e+00\n",
              "25%      8.800000e+01\n",
              "50%      7.290000e+02\n",
              "75%      7.023000e+03\n",
              "max      1.250800e+09\n",
              "Name: Production, dtype: float64"
            ]
          },
          "metadata": {},
          "execution_count": 46
        }
      ]
    },
    {
      "cell_type": "markdown",
      "source": [
        "Production values range from 0 to 1250800000 tonnes, with an average production being 582503.4 tonnes."
      ],
      "metadata": {
        "id": "ZNcKfJNEzQPf"
      }
    },
    {
      "cell_type": "code",
      "source": [
        "plt.boxplot(df.Production)"
      ],
      "metadata": {
        "id": "GjBM3_88z3IA",
        "colab": {
          "base_uri": "https://localhost:8080/",
          "height": 415
        },
        "outputId": "731da857-d9ee-4f92-d894-b3d510ba14ff"
      },
      "execution_count": null,
      "outputs": [
        {
          "output_type": "execute_result",
          "data": {
            "text/plain": [
              "{'whiskers': [<matplotlib.lines.Line2D at 0x7f78f28ec090>,\n",
              "  <matplotlib.lines.Line2D at 0x7f78f28ec5d0>],\n",
              " 'caps': [<matplotlib.lines.Line2D at 0x7f78f28ecb10>,\n",
              "  <matplotlib.lines.Line2D at 0x7f78f28f3090>],\n",
              " 'boxes': [<matplotlib.lines.Line2D at 0x7f78f2966ad0>],\n",
              " 'medians': [<matplotlib.lines.Line2D at 0x7f78f28f3610>],\n",
              " 'fliers': [<matplotlib.lines.Line2D at 0x7f78f28f3b50>],\n",
              " 'means': []}"
            ]
          },
          "metadata": {},
          "execution_count": 47
        },
        {
          "output_type": "display_data",
          "data": {
            "text/plain": [
              "<Figure size 432x288 with 1 Axes>"
            ],
            "image/png": "[encoded data removed]"
          },
          "metadata": {
            "needs_background": "light"
          }
        }
      ]
    },
    {
      "cell_type": "markdown",
      "source": [
        "Looking at the distribution we can say that the attribute is highly skewed with quite a few outliers."
      ],
      "metadata": {
        "id": "nXZZKtoK0ns4"
      }
    },
    {
      "cell_type": "markdown",
      "source": [
        "# EDA"
      ],
      "metadata": {
        "id": "tctEXpt42K5n"
      }
    },
    {
      "cell_type": "markdown",
      "source": [
        "## Overall Crop Production by State"
      ],
      "metadata": {
        "id": "-IdyQwHK2VYS"
      }
    },
    {
      "cell_type": "code",
      "source": [
        "temp = df.groupby(by='State_Name')['Production'].sum().reset_index().sort_values(by='Production')\n",
        "px.bar(temp, 'State_Name', 'Production')"
      ],
      "metadata": {
        "id": "5dNaq8yU2UUA"
      },
      "execution_count": null,
      "outputs": []
    },
    {
      "cell_type": "markdown",
      "source": [
        "From above graph we can see that : \n",
        "\n",
        "*   Kerala is the highest crops producing state overall. It has produced more than 500% crop than the runner up state, Andhra Pradesh.\n",
        "*   Top 3 crop producing states are from south India, which put together leave no space to compare rest states."
      ],
      "metadata": {
        "id": "iMotBDsM25eL"
      }
    },
    {
      "cell_type": "markdown",
      "source": [
        "## Productivity by State"
      ],
      "metadata": {
        "id": "XeGTgby83jhY"
      }
    },
    {
      "cell_type": "code",
      "source": [
        "temp = df.groupby('State_Name')['Area', 'Production'].sum().reset_index()\n",
        "temp['Production_Per_Unit_Area'] = temp['Production']/temp['Area']\n",
        "temp = temp.sort_values(by='Production_Per_Unit_Area')\n",
        "px.bar(temp, 'State_Name', 'Production_Per_Unit_Area', color='Production_Per_Unit_Area', )"
      ],
      "metadata": {
        "id": "-707rjz_25Hp"
      },
      "execution_count": null,
      "outputs": []
    },
    {
      "cell_type": "markdown",
      "source": [
        "Above graph tells us that :\n",
        "\n",
        "*   Kerala is the most productive state when we compare in terms of production by area.\n",
        "*   We see Andaman and Nicobar islands, Puducherry, Goa and many other states which are low in overall production, have higher productivity when we compare with the crop areas."
      ],
      "metadata": {
        "id": "eSPpkelq4Bj9"
      }
    },
    {
      "cell_type": "markdown",
      "source": [
        "## Overall Production through the years"
      ],
      "metadata": {
        "id": "do8mGFUo4zWz"
      }
    },
    {
      "cell_type": "code",
      "source": [
        "temp = df.groupby(by='Crop_Year')['Production'].sum().reset_index()\n",
        "px.line(temp, 'Crop_Year', 'Production')"
      ],
      "metadata": {
        "id": "E2KGrIl-47Jo"
      },
      "execution_count": null,
      "outputs": []
    },
    {
      "cell_type": "markdown",
      "source": [
        "## Average Crop Area through the years"
      ],
      "metadata": {
        "id": "M60Iczfk5Alb"
      }
    },
    {
      "cell_type": "code",
      "source": [
        "temp = df.groupby(by='Crop_Year')['Area'].mean().reset_index()\n",
        "px.scatter(temp, 'Crop_Year', 'Area', color='Area', size='Area')"
      ],
      "metadata": {
        "id": "fBfXNwjK5IBo"
      },
      "execution_count": null,
      "outputs": []
    },
    {
      "cell_type": "markdown",
      "source": [
        "In Above Graph we can see that :\n",
        "\n",
        "*   Average Crop Area has decresed over the years.\n",
        "*   We had the lowest Average Crop area in Years 2002 and 2003. (We have comparitively very less data of the year 2015 so, we will not consider that)"
      ],
      "metadata": {
        "id": "vxrFCMZg5KKC"
      }
    },
    {
      "cell_type": "markdown",
      "source": [
        "## Most and least crop producing Districts"
      ],
      "metadata": {
        "id": "Cx8YFvGQ5qsy"
      }
    },
    {
      "cell_type": "code",
      "source": [
        "fig = py.subplots.make_subplots(rows=1,cols=2,\n",
        "                    subplot_titles=('Highest crop producing districts', 'Least overall crop producing districts'))\n",
        "\n",
        "temp = df.groupby(by='District_Name')['Production'].sum().reset_index().sort_values(by='Production')\n",
        "temp1 = temp.tail()\n",
        "trace1 = go.Bar(x= temp1['District_Name'], y=temp1['Production'])\n",
        "\n",
        "temp1=temp.head()\n",
        "trace2 = go.Bar(x= temp1['District_Name'], y=temp1['Production'])\n",
        "\n",
        "fig.append_trace(trace1,1,1)\n",
        "fig.append_trace(trace2,1,2)\n",
        "fig.show()"
      ],
      "metadata": {
        "id": "JtrgxevZ59Q0"
      },
      "execution_count": null,
      "outputs": []
    },
    {
      "cell_type": "markdown",
      "source": [
        "## Most Produced Crops"
      ],
      "metadata": {
        "id": "1aBsJ7oY6ZLy"
      }
    },
    {
      "cell_type": "code",
      "source": [
        "top_crop_pro = df.groupby(\"Crop\")[\"Production\"].sum().reset_index().sort_values(by='Production',ascending=False)\n",
        "top_crop_pro[:5]"
      ],
      "metadata": {
        "id": "12eFqeBX6ugs"
      },
      "execution_count": null,
      "outputs": []
    },
    {
      "cell_type": "code",
      "source": [
        "temp = df.groupby(by='Crop')['Production'].sum().reset_index().sort_values(by='Production')\n",
        "px.bar(temp.tail(), 'Crop', 'Production')"
      ],
      "metadata": {
        "id": "SOohsgQ96f-I"
      },
      "execution_count": null,
      "outputs": []
    },
    {
      "cell_type": "markdown",
      "source": [
        "## EDA on Coconut"
      ],
      "metadata": {
        "id": "dNUOrBav8BcL"
      }
    },
    {
      "cell_type": "code",
      "source": [
        "coc_df = df[df[\"Crop\"]==\"Coconut \"]\n",
        "print(coc_df.Season.unique())\n",
        "print(coc_df.Season.value_counts())"
      ],
      "metadata": {
        "id": "ax8Zaowz8GqJ"
      },
      "execution_count": null,
      "outputs": []
    },
    {
      "cell_type": "code",
      "source": [
        "plt.figure(figsize=(10,6))\n",
        "sns.barplot(x=\"Season\",y=\"Production\",data=coc_df)"
      ],
      "metadata": {
        "id": "FEoo4DA88Sov"
      },
      "execution_count": null,
      "outputs": []
    },
    {
      "cell_type": "code",
      "source": [
        "plt.figure(figsize=(10,6))\n",
        "sns.barplot(x=\"State_Name\",y=\"Production\",data=coc_df)\n",
        "plt.xticks(rotation=90)\n",
        "plt.show()"
      ],
      "metadata": {
        "id": "SiBZ1GC0-HpP"
      },
      "execution_count": null,
      "outputs": []
    },
    {
      "cell_type": "code",
      "source": [
        "top_coc_pro_dis = coc_df.groupby(\"District_Name\")[\"Production\"].sum().reset_index().sort_values(\n",
        "    by='Production',ascending=False)\n",
        "top_coc_pro_dis[:5]\n",
        "sum_max = top_coc_pro_dis[\"Production\"].sum()\n",
        "top_coc_pro_dis[\"precent of production\"] = top_coc_pro_dis[\"Production\"].map(lambda x:(x/sum_max)*100)\n",
        "top_coc_pro_dis[:5]"
      ],
      "metadata": {
        "id": "oC_8KGG__4Go"
      },
      "execution_count": null,
      "outputs": []
    },
    {
      "cell_type": "code",
      "source": [
        "plt.figure(figsize=(10,6))\n",
        "sns.barplot(x=\"Crop_Year\",y=\"Production\",data=coc_df)\n",
        "plt.xticks(rotation=45)\n",
        "plt.show()"
      ],
      "metadata": {
        "id": "EiYIRhjLAOey"
      },
      "execution_count": null,
      "outputs": []
    },
    {
      "cell_type": "code",
      "source": [
        "sns.jointplot(x=\"Area\",y=\"Production\",data=coc_df,kind=\"reg\")"
      ],
      "metadata": {
        "id": "mm36xXIPAuJG"
      },
      "execution_count": null,
      "outputs": []
    },
    {
      "cell_type": "markdown",
      "source": [
        "Insights from Coconut EDA:\n",
        "\n",
        "*   Cocunut production is directly proportional to area.\n",
        "*   Its production is also gradually increasing over a time of period.\n",
        "*   Production is highest in Kerala.\n",
        "*   It does not depends on the season."
      ],
      "metadata": {
        "id": "zoss9cY9A2Hx"
      }
    },
    {
      "cell_type": "markdown",
      "source": [
        "## EDA on Sugarcane"
      ],
      "metadata": {
        "id": "QS0emyMmBZur"
      }
    },
    {
      "cell_type": "code",
      "source": [
        "sug_df = df[df[\"Crop\"]==\"Sugarcane\"]\n",
        "print(sug_df.Season.unique())\n",
        "print(sug_df.Season.value_counts())"
      ],
      "metadata": {
        "id": "XpoRoXT5BgCO"
      },
      "execution_count": null,
      "outputs": []
    },
    {
      "cell_type": "code",
      "source": [
        "plt.figure(figsize=(10,6))\n",
        "sns.barplot(x=\"Season\",y=\"Production\",data=sug_df)"
      ],
      "metadata": {
        "id": "f-ckD4D0B0Xh"
      },
      "execution_count": null,
      "outputs": []
    },
    {
      "cell_type": "code",
      "source": [
        "plt.figure(figsize=(10,6))\n",
        "sns.barplot(x=\"State_Name\",y=\"Production\",data=sug_df)\n",
        "plt.xticks(rotation=90)\n",
        "plt.show()"
      ],
      "metadata": {
        "id": "_LDAOM4XCBLQ"
      },
      "execution_count": null,
      "outputs": []
    },
    {
      "cell_type": "code",
      "source": [
        "top_sug_pro_dis = sug_df.groupby(\"District_Name\")[\"Production\"].sum().reset_index().sort_values(\n",
        "    by='Production',ascending=False)\n",
        "top_sug_pro_dis[:5]\n",
        "sum_max = top_sug_pro_dis[\"Production\"].sum()\n",
        "top_sug_pro_dis[\"precent of production\"] = top_sug_pro_dis[\"Production\"].map(lambda x:(x/sum_max)*100)\n",
        "top_sug_pro_dis[:5]"
      ],
      "metadata": {
        "id": "-iY2Ir0NCg-9"
      },
      "execution_count": null,
      "outputs": []
    },
    {
      "cell_type": "code",
      "source": [
        "plt.figure(figsize=(10,6))\n",
        "sns.barplot(x=\"Crop_Year\",y=\"Production\",data=sug_df)\n",
        "plt.xticks(rotation=45)\n",
        "plt.show()"
      ],
      "metadata": {
        "id": "2grYHNz_CvTl"
      },
      "execution_count": null,
      "outputs": []
    },
    {
      "cell_type": "code",
      "source": [
        "sns.jointplot(x=\"Area\",y=\"Production\",data=sug_df,kind=\"reg\")"
      ],
      "metadata": {
        "id": "tWjea0tGC2hA"
      },
      "execution_count": null,
      "outputs": []
    },
    {
      "cell_type": "markdown",
      "source": [
        "Insights from Sugarcane EDA:\n",
        "\n",
        "*   Sugarecane production is directly proportional to area\n",
        "*   It is produced in considerably high quantities in many states."
      ],
      "metadata": {
        "id": "KA2Xdg-TC60N"
      }
    },
    {
      "cell_type": "markdown",
      "source": [
        "## EDA on Rice"
      ],
      "metadata": {
        "id": "qEcKg0VWDPyB"
      }
    },
    {
      "cell_type": "code",
      "source": [
        "rice_df = df[df[\"Crop\"]==\"Rice\"]\n",
        "print(rice_df.Season.unique())\n",
        "print(rice_df.Season.value_counts())"
      ],
      "metadata": {
        "id": "5tpuZ-mBDSx9"
      },
      "execution_count": null,
      "outputs": []
    },
    {
      "cell_type": "code",
      "source": [
        "plt.figure(figsize=(10,6))\n",
        "sns.barplot(x=\"Season\",y=\"Production\",data=rice_df)"
      ],
      "metadata": {
        "id": "weynFfmIk3BD"
      },
      "execution_count": null,
      "outputs": []
    },
    {
      "cell_type": "code",
      "source": [
        "plt.figure(figsize=(10,6))\n",
        "sns.barplot(x=\"State_Name\",y=\"Production\",data=rice_df)\n",
        "plt.xticks(rotation=90)\n",
        "plt.show()"
      ],
      "metadata": {
        "id": "KrQcn-9Nk71z"
      },
      "execution_count": null,
      "outputs": []
    },
    {
      "cell_type": "code",
      "source": [
        "top_rice_pro_dis = rice_df.groupby(\"District_Name\")[\"Production\"].sum().reset_index().sort_values(\n",
        "    by='Production',ascending=False)\n",
        "top_rice_pro_dis[:5]\n",
        "sum_max = top_rice_pro_dis[\"Production\"].sum()\n",
        "top_rice_pro_dis[\"precent of production\"] = top_rice_pro_dis[\"Production\"].map(lambda x:(x/sum_max)*100)\n",
        "top_rice_pro_dis[:5]"
      ],
      "metadata": {
        "id": "iOOKWsr8k8ke"
      },
      "execution_count": null,
      "outputs": []
    },
    {
      "cell_type": "code",
      "source": [
        "plt.figure(figsize=(10,6))\n",
        "sns.barplot(x=\"Crop_Year\",y=\"Production\",data=rice_df)\n",
        "plt.xticks(rotation=45)\n",
        "plt.show()"
      ],
      "metadata": {
        "id": "z2sRdJU7lC2c"
      },
      "execution_count": null,
      "outputs": []
    },
    {
      "cell_type": "code",
      "source": [
        "sns.jointplot(x=\"Area\",y=\"Production\",data=rice_df,kind=\"reg\")"
      ],
      "metadata": {
        "id": "ZjhEvMswlFvs"
      },
      "execution_count": null,
      "outputs": []
    },
    {
      "cell_type": "markdown",
      "source": [
        "Insights:\n",
        "\n",
        "*   Rice is produced throughout the year.\n",
        "*   Production is directly proportional to Area.\n",
        "*   India consistently producses a high quantity of Rice every year since 1997 ( since we have less data on 2015, there's a reduciton)\n",
        "*   The higest Rice producing state is Punjab.\n",
        "\n"
      ],
      "metadata": {
        "id": "8gmgPVPanODG"
      }
    },
    {
      "cell_type": "markdown",
      "source": [
        "# Linear Regression Model"
      ],
      "metadata": {
        "id": "9mhRM2BITJrT"
      }
    },
    {
      "cell_type": "code",
      "source": [
        "data1 = df.drop([\"District_Name\",\"Crop_Year\"],axis=1)"
      ],
      "metadata": {
        "id": "DOV6ZmLaYCOr"
      },
      "execution_count": null,
      "outputs": []
    },
    {
      "cell_type": "code",
      "source": [
        "data_dum = pd.get_dummies(data1)\n",
        "data_dum[:5]"
      ],
      "metadata": {
        "id": "LEiVEwVmYIM8"
      },
      "execution_count": null,
      "outputs": []
    },
    {
      "cell_type": "code",
      "source": [
        "x = data_dum.drop(\"Production\",axis=1)\n",
        "y = data_dum[[\"Production\"]]\n",
        "from sklearn.model_selection import train_test_split\n",
        "x_train,x_test,y_train,y_test = train_test_split(x,y,test_size=0.33, random_state=42)\n",
        "print(\"x_train :\",x_train.shape)\n",
        "print(\"x_test :\",x_test.shape)\n",
        "print(\"y_train :\",y_train.shape)\n",
        "print(\"y_test :\",y_test.shape)"
      ],
      "metadata": {
        "id": "tXAD97NPX2JD"
      },
      "execution_count": null,
      "outputs": []
    },
    {
      "cell_type": "code",
      "source": [
        "x_train[:5]"
      ],
      "metadata": {
        "id": "_Bo8r7SDYPmB"
      },
      "execution_count": null,
      "outputs": []
    },
    {
      "cell_type": "code",
      "source": [
        "from sklearn.linear_model import LinearRegression\n",
        "model = LinearRegression()\n",
        "model.fit(x_train,y_train)"
      ],
      "metadata": {
        "colab": {
          "base_uri": "https://localhost:8080/"
        },
        "id": "wPi-98M_YS_x",
        "outputId": "a4a0189c-a2db-4516-a47d-8ef45e8411ff"
      },
      "execution_count": null,
      "outputs": [
        {
          "output_type": "execute_result",
          "data": {
            "text/plain": [
              "LinearRegression()"
            ]
          },
          "metadata": {},
          "execution_count": 26
        }
      ]
    },
    {
      "cell_type": "code",
      "source": [
        "preds = model.predict(x_test)"
      ],
      "metadata": {
        "id": "Ej6RU3tqYseB"
      },
      "execution_count": null,
      "outputs": []
    },
    {
      "cell_type": "code",
      "source": [
        "from sklearn.metrics import mean_squared_error, r2_score\n",
        "mean_squared_error(y_test,preds)\n",
        "r2_score(y_test,preds)"
      ],
      "metadata": {
        "colab": {
          "base_uri": "https://localhost:8080/"
        },
        "id": "rY3pq5ZXYusL",
        "outputId": "e0a079cf-724f-4333-9210-9e0b0803f202"
      },
      "execution_count": null,
      "outputs": [
        {
          "output_type": "execute_result",
          "data": {
            "text/plain": [
              "0.14641046241956368"
            ]
          },
          "metadata": {},
          "execution_count": 28
        }
      ]
    },
    {
      "cell_type": "markdown",
      "source": [
        "# Random Forest Model"
      ],
      "metadata": {
        "id": "HvJRd3H2ZgM7"
      }
    },
    {
      "cell_type": "code",
      "source": [
        "from sklearn.ensemble import RandomForestRegressor\n",
        "model = RandomForestRegressor()\n",
        "model.fit(x_train,y_train)\n",
        "preds = model.predict(x_test)"
      ],
      "metadata": {
        "colab": {
          "base_uri": "https://localhost:8080/"
        },
        "id": "4pkkByvAZjkJ",
        "outputId": "3a748c74-cccb-40b0-8eae-b66cbf2e2cc0"
      },
      "execution_count": null,
      "outputs": [
        {
          "output_type": "stream",
          "name": "stderr",
          "text": [
            "/usr/local/lib/python3.7/dist-packages/ipykernel_launcher.py:3: DataConversionWarning:\n",
            "\n",
            "A column-vector y was passed when a 1d array was expected. Please change the shape of y to (n_samples,), for example using ravel().\n",
            "\n"
          ]
        }
      ]
    },
    {
      "cell_type": "code",
      "source": [
        "from sklearn.metrics import r2_score\n",
        "r2_score(y_test,preds)"
      ],
      "metadata": {
        "colab": {
          "base_uri": "https://localhost:8080/"
        },
        "id": "HTYSiRf-aB8J",
        "outputId": "10242519-dabd-46ba-8611-9a239ff1a743"
      },
      "execution_count": null,
      "outputs": [
        {
          "output_type": "execute_result",
          "data": {
            "text/plain": [
              "0.6956992545201393"
            ]
          },
          "metadata": {},
          "execution_count": 30
        }
      ]
    }
  ]
}